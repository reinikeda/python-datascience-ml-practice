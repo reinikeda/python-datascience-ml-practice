{
 "cells": [
  {
   "cell_type": "code",
   "execution_count": 1,
   "metadata": {},
   "outputs": [],
   "source": [
    "import pandas as pd"
   ]
  },
  {
   "cell_type": "code",
   "execution_count": 2,
   "metadata": {},
   "outputs": [
    {
     "name": "stdout",
     "output_type": "stream",
     "text": [
      "{'cars': ['BMW', 'Volvo', 'Ford'], 'year': [2020, 2018, 2021], 'color': ['black', 'blue', 'red']}\n"
     ]
    }
   ],
   "source": [
    "mydataset = {\n",
    "    'cars': ['BMW', 'Volvo', 'Ford'],\n",
    "    'year': [2020, 2018, 2021],\n",
    "    'color': ['black', 'blue', 'red']\n",
    "}\n",
    "\n",
    "print(mydataset)"
   ]
  },
  {
   "cell_type": "code",
   "execution_count": 3,
   "metadata": {},
   "outputs": [
    {
     "name": "stdout",
     "output_type": "stream",
     "text": [
      "    cars  year  color\n",
      "0    BMW  2020  black\n",
      "1  Volvo  2018   blue\n",
      "2   Ford  2021    red\n"
     ]
    }
   ],
   "source": [
    "print(pd.DataFrame(mydataset))"
   ]
  },
  {
   "cell_type": "code",
   "execution_count": 4,
   "metadata": {},
   "outputs": [
    {
     "name": "stdout",
     "output_type": "stream",
     "text": [
      "cars     [BMW, Volvo, Ford]\n",
      "year     [2020, 2018, 2021]\n",
      "color    [black, blue, red]\n",
      "dtype: object\n"
     ]
    }
   ],
   "source": [
    "print(pd.Series(mydataset))"
   ]
  }
 ],
 "metadata": {
  "kernelspec": {
   "display_name": "venv",
   "language": "python",
   "name": "python3"
  },
  "language_info": {
   "codemirror_mode": {
    "name": "ipython",
    "version": 3
   },
   "file_extension": ".py",
   "mimetype": "text/x-python",
   "name": "python",
   "nbconvert_exporter": "python",
   "pygments_lexer": "ipython3",
   "version": "3.10.9"
  },
  "orig_nbformat": 4
 },
 "nbformat": 4,
 "nbformat_minor": 2
}
