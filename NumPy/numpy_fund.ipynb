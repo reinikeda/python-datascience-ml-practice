{
 "cells": [
  {
   "cell_type": "code",
   "execution_count": 24,
   "metadata": {},
   "outputs": [],
   "source": [
    "import numpy as np\n",
    "from scipy import stats"
   ]
  },
  {
   "cell_type": "code",
   "execution_count": 25,
   "metadata": {},
   "outputs": [
    {
     "name": "stdout",
     "output_type": "stream",
     "text": [
      "[1 2 3 4 5]\n",
      "<class 'numpy.ndarray'>\n"
     ]
    }
   ],
   "source": [
    "test = np.array([1, 2, 3, 4, 5])\n",
    "print(test)\n",
    "print(type(test))"
   ]
  },
  {
   "cell_type": "code",
   "execution_count": 26,
   "metadata": {},
   "outputs": [
    {
     "name": "stdout",
     "output_type": "stream",
     "text": [
      "[38 69 13 57 46 27 37 50 17 90 24 80 14 48 93 67 35 60  2 62 41 26 84 96\n",
      " 79 23 24 62 80 63 50 76  3 37 77 66 91 14 78 29 92  3 95  5 58 23 82 72\n",
      " 26 12]\n"
     ]
    }
   ],
   "source": [
    "test2 = np.random.randint(1, 100, 50)\n",
    "print(test2)"
   ]
  },
  {
   "cell_type": "code",
   "execution_count": 27,
   "metadata": {},
   "outputs": [
    {
     "name": "stdout",
     "output_type": "stream",
     "text": [
      "[ 2  3  3  5 12 13 14 14 17 23 23 24 24 26 26 27 29 35 37 37 38 41 46 48\n",
      " 50 50 57 58 60 62 62 63 66 67 69 72 76 77 78 79 80 80 82 84 90 91 92 93\n",
      " 95 96]\n"
     ]
    }
   ],
   "source": [
    "print(np.sort(test2))"
   ]
  },
  {
   "cell_type": "code",
   "execution_count": 28,
   "metadata": {},
   "outputs": [
    {
     "name": "stdout",
     "output_type": "stream",
     "text": [
      "[69, 13, 57, 27, 37, 17, 93, 67, 35, 41, 79, 23, 63, 3, 37, 77, 91, 29, 3, 95, 5, 23]\n",
      "[38, 46, 50, 90, 24, 80, 14, 48, 60, 2, 62, 26, 84, 96, 24, 62, 80, 50, 76, 66, 14, 78, 92, 58, 82, 72, 26, 12]\n"
     ]
    }
   ],
   "source": [
    "filter_odd = []\n",
    "filter_even = []\n",
    "\n",
    "for element in test2:\n",
    "    if element % 2 != 0:\n",
    "        filter_odd.append(element)\n",
    "    else:\n",
    "        filter_even.append(element)\n",
    "\n",
    "print(filter_odd)\n",
    "print(filter_even)"
   ]
  },
  {
   "cell_type": "code",
   "execution_count": 29,
   "metadata": {},
   "outputs": [
    {
     "name": "stdout",
     "output_type": "stream",
     "text": [
      "[1 2 3 4 5 6 7 8 9]\n"
     ]
    }
   ],
   "source": [
    "test3 = np.array([1, 2, 3, 4, 5, 6, 7, 8, 9])\n",
    "print(test3)"
   ]
  },
  {
   "cell_type": "code",
   "execution_count": 30,
   "metadata": {},
   "outputs": [
    {
     "name": "stdout",
     "output_type": "stream",
     "text": [
      "[[1 2 3]\n",
      " [4 5 6]\n",
      " [7 8 9]]\n"
     ]
    }
   ],
   "source": [
    "print(test3.reshape(3, 3))"
   ]
  },
  {
   "cell_type": "code",
   "execution_count": 31,
   "metadata": {},
   "outputs": [
    {
     "name": "stdout",
     "output_type": "stream",
     "text": [
      "[[1 2 3 4]\n",
      " [5 6 7 8]]\n"
     ]
    }
   ],
   "source": [
    "test4 = np.array([[1, 2, 3, 4], [5, 6, 7, 8]])\n",
    "print(test4)"
   ]
  },
  {
   "cell_type": "code",
   "execution_count": 32,
   "metadata": {},
   "outputs": [
    {
     "name": "stdout",
     "output_type": "stream",
     "text": [
      "[1 2 3 4 5 6 7 8]\n"
     ]
    }
   ],
   "source": [
    "print(test4.reshape(-1))"
   ]
  },
  {
   "cell_type": "code",
   "execution_count": 35,
   "metadata": {},
   "outputs": [
    {
     "name": "stdout",
     "output_type": "stream",
     "text": [
      "[38 69 13 57 46 27 37 50 17 90 24 80 14 48 93 67 35 60  2 62 41 26 84 96\n",
      " 79 23 24 62 80 63 50 76  3 37 77 66 91 14 78 29 92  3 95  5 58 23 82 72\n",
      " 26 12]\n"
     ]
    }
   ],
   "source": [
    "print(test2)"
   ]
  },
  {
   "cell_type": "code",
   "execution_count": 34,
   "metadata": {},
   "outputs": [
    {
     "name": "stdout",
     "output_type": "stream",
     "text": [
      "49.92 50.0 ModeResult(mode=3, count=2)\n"
     ]
    }
   ],
   "source": [
    "testmean = np.mean(test2)\n",
    "testmedian = np.median(test2)\n",
    "testmode = stats.mode(test2)\n",
    "\n",
    "print(testmean, testmedian, testmode)"
   ]
  },
  {
   "cell_type": "code",
   "execution_count": 36,
   "metadata": {},
   "outputs": [
    {
     "name": "stdout",
     "output_type": "stream",
     "text": [
      "28.665547264966\n"
     ]
    }
   ],
   "source": [
    "testdev = np.std(test2)\n",
    "print(testdev)\n",
    "# standart deviation"
   ]
  },
  {
   "cell_type": "code",
   "execution_count": 37,
   "metadata": {},
   "outputs": [
    {
     "name": "stdout",
     "output_type": "stream",
     "text": [
      "76.75\n"
     ]
    }
   ],
   "source": [
    "testperc = np.percentile(test2, 75)\n",
    "print(testperc)"
   ]
  }
 ],
 "metadata": {
  "kernelspec": {
   "display_name": "venv",
   "language": "python",
   "name": "python3"
  },
  "language_info": {
   "codemirror_mode": {
    "name": "ipython",
    "version": 3
   },
   "file_extension": ".py",
   "mimetype": "text/x-python",
   "name": "python",
   "nbconvert_exporter": "python",
   "pygments_lexer": "ipython3",
   "version": "3.10.9"
  },
  "orig_nbformat": 4
 },
 "nbformat": 4,
 "nbformat_minor": 2
}
